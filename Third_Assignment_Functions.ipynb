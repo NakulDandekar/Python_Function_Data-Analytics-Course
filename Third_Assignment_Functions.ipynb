{
 "cells": [
  {
   "cell_type": "markdown",
   "id": "6bae2331-6c0c-4b96-801d-02fd3e72271c",
   "metadata": {},
   "source": [
    "# Assignment-3\n",
    "## Functions"
   ]
  },
  {
   "cell_type": "markdown",
   "id": "6fdf98d4-d03d-4088-9158-31af66ec8f65",
   "metadata": {},
   "source": [
    "## Theory Questions: "
   ]
  },
  {
   "cell_type": "code",
   "execution_count": null,
   "id": "45460857-be74-4236-aa67-62635b00935e",
   "metadata": {},
   "outputs": [],
   "source": [
    "#What is the difference between a function and method in python\n",
    "'''\n",
    ">> A function is a block of code that performs a specific task,while a method is a \n",
    "function that belongs to a class or object.\n",
    "\n",
    ">>Define:\n",
    "1. Function: Defined independently using the \"def\" keyword.\n",
    "2. Method: Defined within a class using the \"def\" keyword.\n",
    "\n",
    ">>Invocation:\n",
    "1.Function: Called directly by its name.\n",
    "2. Method: called on an object or class using dot notation.\n",
    "\n",
    ">>Scope:\n",
    "1. Function: Can be used anywhere in the prgram.\n",
    "2. Method: Typically used only with instances of the class it belongs to.\n",
    "\n",
    "Example;\n",
    "'''\n",
    "#function\n",
    "def greet(name):\n",
    "    return f\"Hello,{name}!\"\n",
    "\n",
    "#Method\n",
    "class Person:\n",
    "    def greet(self, name):\n",
    "        return f\"Hello, {name}! I'm{self.name}.\"\n",
    "    \n",
    "#for function\n",
    "print(greet(\"Alice\"))\n",
    "\n",
    "#for method\n",
    "person=person()\n",
    "person.name=\"Nakul\"\n",
    "print(peson.greet(\"Sakshi\"))"
   ]
  },
  {
   "cell_type": "code",
   "execution_count": 3,
   "id": "bed5aa5b-6158-45a0-bd5f-3af11f2a3990",
   "metadata": {},
   "outputs": [
    {
     "name": "stdout",
     "output_type": "stream",
     "text": [
      "Hello,Nakul!\n"
     ]
    }
   ],
   "source": [
    "# Explain the concept of function arguments and parameters in python.\n",
    "'''\n",
    ">>Function arguments and parameters in python are key concepts for defining and using functions effectively.\n",
    "\n",
    "Parameters:\n",
    "> Parameters are variable defined in the function declaration.\n",
    "> They specify what inputs a function expects to receive.\n",
    "> Parameters are placeholders for the actual values that will be passed to the function.\n",
    "\n",
    "Arguments:\n",
    "> Arguments are the actual values passed to a function when it's called.\n",
    "> They correspond to the parameters defined in the function.\n",
    "\n",
    "'''\n",
    "#Example;\n",
    "def greet(name): #name is parameter\n",
    "    print(f\"Hello,{name}!\")\n",
    "    \n",
    "greet('Nakul') #Alice is argument"
   ]
  },
  {
   "cell_type": "code",
   "execution_count": 12,
   "id": "9c4bc044-cc15-4cde-8237-0bd40776bbe6",
   "metadata": {},
   "outputs": [
    {
     "name": "stdout",
     "output_type": "stream",
     "text": [
      "120\n"
     ]
    }
   ],
   "source": [
    "#what are the different ways to define and call a function in python\n",
    "\n",
    "#1.Regular function:\n",
    "def greet(name):\n",
    "    return f\"Hello, {name}!\"\n",
    "\n",
    "result=greet(\"Nakul\")\n",
    "\n",
    "#2. Lambda Function\n",
    "greet =lambda name: f\"Hello, {name}!\"\n",
    "\n",
    "result=greet(\"Nakul\")\n",
    "\n",
    "#3. Nested functions\n",
    "def outer_function(x):\n",
    "    def inner_function(y):\n",
    "        return x+y\n",
    "    return inner_function\n",
    "\n",
    "add=outer_function(5)\n",
    "result=add(3)\n",
    "\n",
    "#4. Class method:\n",
    "class Greeter:\n",
    "    def greet(self,name):\n",
    "        return f\"Hello, {name}!\"\n",
    "\n",
    "greeter=Greeter()\n",
    "result=greeter.greet(\"Om\")\n",
    "\n",
    "#5. Static method\n",
    "class MathOperations:\n",
    "    @staticmethod\n",
    "    def add(x,y):\n",
    "        return x+y\n",
    "\n",
    "result=MathOperations.add(3,4)\n",
    "\n",
    "#6. Recursive function\n",
    "def factorial(n):\n",
    "    if n==1:\n",
    "        return 1\n",
    "    else:\n",
    "        return n*factorial(n-1)\n",
    "\n",
    "print(factorial(5))\n"
   ]
  },
  {
   "cell_type": "code",
   "execution_count": 13,
   "id": "6d198b38-34a5-4a78-a468-b71beaea488a",
   "metadata": {},
   "outputs": [
    {
     "name": "stdout",
     "output_type": "stream",
     "text": [
      "7\n"
     ]
    }
   ],
   "source": [
    "#what is the purpose of the 'return' statement in a python function?\n",
    "'''\n",
    ">> Specifies the output: It defines the value or object that the function will output when called.\n",
    "\n",
    ">>Terminates execution: It immediately ends the function's execution and returns control to the calling code.\n",
    "\n",
    ">>Passes data: It allows the function to pass data back to the part of the program that called it.\n",
    "\n",
    ">>Enables function composition: The returned value can be used as input for other functions or operations.\n",
    "\n",
    ">>Supports multiple return values: Python allows returning multiple values as a tuple.\n",
    "\n",
    "'''\n",
    "#Example;\n",
    "def add(a,b):\n",
    "    return a+b\n",
    "\n",
    "result =add(3,4)\n",
    "print(result)"
   ]
  },
  {
   "cell_type": "code",
   "execution_count": 17,
   "id": "f7e032c7-a2e8-4dac-a748-a75ce2a03018",
   "metadata": {},
   "outputs": [
    {
     "name": "stdout",
     "output_type": "stream",
     "text": [
      "1\n",
      "2\n",
      "3\n"
     ]
    },
    {
     "ename": "StopIteration",
     "evalue": "",
     "output_type": "error",
     "traceback": [
      "\u001b[0;31m---------------------------------------------------------------------------\u001b[0m",
      "\u001b[0;31mStopIteration\u001b[0m                             Traceback (most recent call last)",
      "Cell \u001b[0;32mIn[17], line 27\u001b[0m\n\u001b[1;32m     25\u001b[0m \u001b[38;5;28mprint\u001b[39m(\u001b[38;5;28mnext\u001b[39m(my_interator))\n\u001b[1;32m     26\u001b[0m \u001b[38;5;28mprint\u001b[39m(\u001b[38;5;28mnext\u001b[39m(my_interator))\n\u001b[0;32m---> 27\u001b[0m \u001b[38;5;28mprint\u001b[39m(\u001b[38;5;28;43mnext\u001b[39;49m\u001b[43m(\u001b[49m\u001b[43mmy_interator\u001b[49m\u001b[43m)\u001b[49m)\n",
      "\u001b[0;31mStopIteration\u001b[0m: "
     ]
    }
   ],
   "source": [
    "#what are iterators in python and how do they differ from terables?\n",
    "'''\n",
    ">>Iterables:\n",
    "1. An iterable is any object that can be looped over.\n",
    "2. It contains a countable number of values.\n",
    "3. Examples include lists, tuples, strings, dictionaries, and sets.\n",
    "4. Iterables have an iter() method that returns an iterator.\n",
    ">>Iterators:\n",
    "1. An iterator is an object that represents a stream of data.\n",
    "2. It must have a next() method that returns the next item in the sequence.\n",
    "3. When there are no more items, it raises a StopIteration exception.\n",
    "4. Iterators also have an iter() method that returns self.\n",
    ">>Key differences:\n",
    "1. Memory usage: Iterables often hold all their values in memory, while iterators generate values on-the-fly.\n",
    "2. State: Iterators maintain state, remembering where they are in the sequence.\n",
    "3. Reusability: You can iterate over an iterable multiple times, but an iterator is exhausted after one pass.\n",
    "\n",
    "'''\n",
    "#Example;\n",
    "my_list=[1,2,3]\n",
    "\n",
    "my_interator=iter(my_list)\n",
    "\n",
    "print(next(my_interator))\n",
    "print(next(my_interator))\n",
    "print(next(my_interator))\n",
    "print(next(my_interator))"
   ]
  },
  {
   "cell_type": "code",
   "execution_count": 18,
   "id": "6c5291cf-250c-44e7-9aa1-808b54e26973",
   "metadata": {},
   "outputs": [
    {
     "name": "stdout",
     "output_type": "stream",
     "text": [
      "5\n",
      "4\n",
      "3\n",
      "2\n",
      "1\n",
      "0\n",
      "1\n"
     ]
    }
   ],
   "source": [
    "#Explain the concept of generators in python and how they are defined.\n",
    "'''\n",
    "Generators in Python are a powerful and memory-efficient way to create iterators. \n",
    "They allow you to generate a sequence of values over time, rather than computing them all at once and storing them in memory.\n",
    "\n",
    ">>Definition: Generators are defined using a function with a 'yield' statement instead of 'return'.\n",
    ">>State suspension: They can pause and resume their state between calls.\n",
    ">>Memory efficiency: Values are generated on-the-fly, not stored in memory.\n",
    ">>Lazy evaluation: Values are computed only when requested.\n",
    ">>Iteration: They're iterators, so you can use them in for loops or with next().\n",
    "'''\n",
    "#Example\n",
    "def countdown(n):\n",
    "    while n > 0:\n",
    "        yield n\n",
    "        n -= 1\n",
    "\n",
    "for number in countdown(5):\n",
    "    print(number)\n",
    "\n",
    "squares = (x**2 for x in range(5))\n",
    "print(next(squares)) \n",
    "print(next(squares))  \n"
   ]
  },
  {
   "cell_type": "code",
   "execution_count": null,
   "id": "8fc41895-13b2-4538-a35d-ca0f17c68a0e",
   "metadata": {},
   "outputs": [],
   "source": [
    "#what are the advantages of using generators over regular functions?\n",
    "'''\n",
    "1. Memory efficiency:\n",
    ">>Generators produce values on-demand, storing only the current state.\n",
    ">>Regular functions may need to create and store entire sequences in memory.\n",
    "\n",
    "2. Performance:\n",
    ">>For large datasets, generators can be faster as they avoid the overhead of creating and storing a large list.\n",
    ">>They start producing values immediately, without waiting for the entire sequence to be generated.\n",
    "\n",
    "3. Infinite sequences:\n",
    ">>Generators can represent infinite sequences, which is impossible with regular functions returning lists.\n",
    "\n",
    "4. Lazy evaluation:\n",
    ">>Values are computed only when requested, saving computational resources.\n",
    "\n",
    "5. State preservation:\n",
    ">>Generators automatically preserve their state between calls.\n",
    "\n",
    "6. Simplified code:\n",
    ">>Often lead to cleaner, more readable code for complex iterations.\n",
    "\n",
    "7. Composability:\n",
    ">>Easily combined with other generators or iterators using tools like itertools.\n",
    "\n",
    "8. Reduced time complexity:\n",
    ">>In some cases, generators can reduce time complexity from O(n) to O(1) for accessing the first element.\n",
    "'''"
   ]
  },
  {
   "cell_type": "code",
   "execution_count": null,
   "id": "4d4e2d02-e005-41a8-b4cb-b395054700fe",
   "metadata": {},
   "outputs": [],
   "source": [
    "#What is lambda function in python and when is it typically used?\n",
    "'''\n",
    "Lambda function:\n",
    ">>Lambda functions in Python are small, anonymous functions defined using the 'lambda' keyword. \n",
    "They are a concise way to create simple functions without using the 'def' statement.\n",
    "\n",
    "Syntax:\n",
    "lambda arguments: expression\n",
    "\n",
    "1.As arguments to higher-order functions:\n",
    "numbers = [1, 2, 3, 4, 5]\n",
    "squared = list(map(lambda x: x**2, numbers))\n",
    "\n",
    "2.In sorting operations:\n",
    "pairs = [(1, 'one'), (2, 'two'), (3, 'three')]\n",
    "sorted_pairs = sorted(pairs, key=lambda pair: pair[1])\n",
    "\n",
    "3.In list comprehensions or as key functions:\n",
    "numbers = [1, 2, 3, 4, 5]\n",
    "even_numbers = list(filter(lambda x: x % 2 == 0, numbers))\n",
    "\n",
    "4.For simple function assignments:\n",
    "multiply = lambda x, y: x * y\n",
    "print(multiply(3, 4)) "
   ]
  },
  {
   "cell_type": "code",
   "execution_count": null,
   "id": "b8455851-ba9a-49a8-a46a-cefbdb598938",
   "metadata": {},
   "outputs": [],
   "source": [
    "#Explain the purpose and usage of the `map()` function in Python.\n",
    "'''\n",
    "The map() function in Python is a built-in higher-order function used to apply a given function to each item in an iterable (e.g., a list, tuple, or set) and return an iterator of the results.\n",
    "\n",
    "Purpose:\n",
    "To transform each element in an iterable using a specified function\n",
    "To create a new iterator without modifying the original iterable\n",
    "To simplify code by avoiding explicit loops for element-wise operations\n",
    "\n",
    "Usage:\n",
    "The basic syntax of map() is:\n",
    "map(function, iterable, [iterable2, iterable3, ...])\n",
    "\n",
    ">>function: The function to apply to each element of the iterable(s)\n",
    ">>iterable: The input iterable (or multiple iterables) to process\n",
    "\n",
    "#Example;\n",
    "\n",
    "numbers = [1, 2, 3, 4, 5]\n",
    "doubled = map(lambda x: x * 2, numbers)\n",
    "print(list(doubled)) "
   ]
  },
  {
   "cell_type": "code",
   "execution_count": null,
   "id": "f1690781-cb15-4378-ace2-21c04104981b",
   "metadata": {},
   "outputs": [],
   "source": [
    "# What is the difference between `map()`, `reduce()`, and `filter()` functions in Python?\n",
    "'''\n",
    "1.map():\n",
    ">>Purpose: Applies a given function to each item in an iterable (e.g., list, tuple) and returns a map object (which is an iterator) with the results.\n",
    "\n",
    "Syntax:\n",
    "map(function, iterable)\n",
    "\n",
    ">>Example:\n",
    "numbers = [1, 2, 3, 4]\n",
    "squared = map(lambda x: x * x, numbers)\n",
    "print(list(squared)) \n",
    "\n",
    "2.reduce():\n",
    ">>Purpose: Applies a function cumulatively to the items of an iterable, reducing it to a single value. It's part of the functools module, so it needs to be imported before use.\n",
    "\n",
    "Syntax:\n",
    "from functools import reduce\n",
    "reduce(function, iterable)\n",
    "\n",
    "Example:\n",
    "from functools import reduce\n",
    "numbers = [1, 2, 3, 4]\n",
    "result = reduce(lambda x, y: x + y, numbers)\n",
    "print(result) \n",
    "\n",
    "3.filter():\n",
    "Purpose: Filters the items in an iterable based on a given function that returns True or False. It returns a filter object (which is an iterator) containing only the items for which the function returns True.\n",
    "\n",
    "Syntax:\n",
    "filter(function, iterable)\n",
    "\n",
    "Example:\n",
    "numbers = [1, 2, 3, 4, 5]\n",
    "even_numbers = filter(lambda x: x % 2 == 0, numbers)\n",
    "print(list(even_numbers)) \n",
    "\n",
    ">>map() applies a function to every element in an iterable and returns an iterator with the results.\n",
    ">>reduce() reduces an iterable to a single cumulative value by applying a function to pairs of elements.\n",
    ">>filter() selects elements from an iterable based on whether they satisfy a given condition."
   ]
  },
  {
   "cell_type": "markdown",
   "id": "3a7964d6-2b7a-4f21-abff-fbc1c6318b62",
   "metadata": {},
   "source": [
    "## Practical Questions:"
   ]
  },
  {
   "cell_type": "code",
   "execution_count": null,
   "id": "6944565b-e881-453d-89c8-662d185cb38e",
   "metadata": {},
   "outputs": [],
   "source": [
    "#Write a Python function that takes a list of numbers as input and returns the sum of all even numbers in the list.\n",
    "def sum_even_numbers(numbers):\n",
    "    even_sum = sum(num for num in numbers if num % 2 == 0)\n",
    "    return even_sum\n",
    "\n",
    "\n",
    "numbers = [47, 11, 42, 13, 8, 16]\n",
    "result = sum_even_numbers(numbers)\n",
    "print(result)  \n"
   ]
  },
  {
   "cell_type": "code",
   "execution_count": 19,
   "id": "77b5127b-d1d1-4b2f-a84a-5e38e37e6b1b",
   "metadata": {},
   "outputs": [
    {
     "name": "stdout",
     "output_type": "stream",
     "text": [
      "lukaN\n"
     ]
    }
   ],
   "source": [
    "#Create a Python function that accepts a string and returns the reverse of that string.\n",
    "def reverse_string(s):\n",
    "    return s[::-1]\n",
    "\n",
    "input_string = \"Nakul\"\n",
    "reversed_string = reverse_string(input_string)\n",
    "print(reversed_string)  "
   ]
  },
  {
   "cell_type": "code",
   "execution_count": 20,
   "id": "3f34350f-8d52-4d46-a5f1-1c0528677f07",
   "metadata": {},
   "outputs": [
    {
     "name": "stdout",
     "output_type": "stream",
     "text": [
      "[1, 4, 9, 16, 25]\n"
     ]
    }
   ],
   "source": [
    "# Implement a Python function that takes a list of integers and returns a new list containing the squares of each number.\n",
    "def square_numbers(numbers):\n",
    "    return [num ** 2 for num in numbers]\n",
    "\n",
    "input_list = [1, 2, 3, 4, 5]\n",
    "squared_list = square_numbers(input_list)\n",
    "print(squared_list)  \n"
   ]
  },
  {
   "cell_type": "code",
   "execution_count": 25,
   "id": "a5eddaa0-085b-416c-a875-1095de5c3f3b",
   "metadata": {},
   "outputs": [
    {
     "name": "stdin",
     "output_type": "stream",
     "text": [
      "Enter a number between 1 and 200:  4\n"
     ]
    },
    {
     "name": "stdout",
     "output_type": "stream",
     "text": [
      "4 is not a prime number.\n"
     ]
    }
   ],
   "source": [
    "#Write a Python function that checks if a given number is prime or not from 1 to 200.\n",
    "def is_prime(n):\n",
    "    if n <= 1:\n",
    "        return False\n",
    "    for i in range(2, n):\n",
    "        if n % i == 0:\n",
    "            return False\n",
    "    return True\n",
    "\n",
    "\n",
    "num = int(input(\"Enter a number between 1 and 200: \"))\n",
    "\n",
    "if num < 1 or num > 200:\n",
    "    print(\"Please enter a number within the range of 1 to 200.\")\n",
    "else:\n",
    "    if is_prime(num):\n",
    "        print(f\"{num} is a prime number.\")\n",
    "    else:\n",
    "        print(f\"{num} is not a prime number.\")\n"
   ]
  },
  {
   "cell_type": "code",
   "execution_count": 28,
   "id": "78e844c5-42ed-4ca7-9353-44e27ae4a742",
   "metadata": {},
   "outputs": [
    {
     "name": "stdin",
     "output_type": "stream",
     "text": [
      "Enter the number of terms for the Fibonacci sequence:  3\n"
     ]
    },
    {
     "name": "stdout",
     "output_type": "stream",
     "text": [
      "0\n",
      "1\n",
      "1\n"
     ]
    }
   ],
   "source": [
    "# Create an iterator class in Python that generates the Fibonacci sequence up to a specified number of terms.\n",
    "class Fibonacci:\n",
    "    def __init__(self, n_terms):\n",
    "        self.n_terms = n_terms\n",
    "        self.count = 0\n",
    "        self.a, self.b = 0, 1\n",
    "\n",
    "    def __iter__(self):\n",
    "        return self\n",
    "\n",
    "    def __next__(self):\n",
    "        if self.count < self.n_terms:\n",
    "            if self.count == 0:\n",
    "                self.count += 1\n",
    "                return self.a\n",
    "            elif self.count == 1:\n",
    "                self.count += 1\n",
    "                return self.b\n",
    "            else:\n",
    "                self.a, self.b = self.b, self.a + self.b\n",
    "                self.count += 1\n",
    "                return self.b\n",
    "        else:\n",
    "            raise StopIteration\n",
    "            \n",
    "n = int(input(\"Enter the number of terms for the Fibonacci sequence: \"))\n",
    "fib_sequence = Fibonacci(n)\n",
    "for num in fib_sequence:\n",
    "    print(num)\n"
   ]
  },
  {
   "cell_type": "code",
   "execution_count": 29,
   "id": "2d162e9e-3a71-47f9-9e9e-ab9127e3ddf7",
   "metadata": {},
   "outputs": [
    {
     "name": "stdin",
     "output_type": "stream",
     "text": [
      "Enter the maximum exponent:  5\n"
     ]
    },
    {
     "name": "stdout",
     "output_type": "stream",
     "text": [
      "1\n",
      "2\n",
      "4\n",
      "8\n",
      "16\n",
      "32\n"
     ]
    }
   ],
   "source": [
    "# Write a generator function in Python that yields the powers of 2 up to a given exponent.\n",
    "def powers_of_two(max_exponent):\n",
    "    for n in range(max_exponent + 1):\n",
    "        yield 2 ** n\n",
    "\n",
    "max_exp = int(input(\"Enter the maximum exponent: \"))\n",
    "for power in powers_of_two(max_exp):\n",
    "    print(power)\n"
   ]
  },
  {
   "cell_type": "code",
   "execution_count": null,
   "id": "688e5661-c86c-417a-8d24-8c22d7857b4d",
   "metadata": {},
   "outputs": [],
   "source": [
    "# Implement a generator function that reads a file line by line and yields each line as a string.\n",
    "\n",
    "def read_file_line_by_line(file_path):\n",
    "    with open(file_path, 'r') as file:\n",
    "        for line in file:\n",
    "            yield line.strip()\n",
    "\n",
    "file_path = input(\"Enter the path to the file: \")\n",
    "for line in read_file_line_by_line(file_path):\n",
    "    print(line)\n"
   ]
  },
  {
   "cell_type": "code",
   "execution_count": 35,
   "id": "f89ecff9-41ad-4b26-9e70-0dc003886496",
   "metadata": {},
   "outputs": [
    {
     "name": "stdout",
     "output_type": "stream",
     "text": [
      "[(2, 1), (3, 2), (1, 3), (4, 4)]\n"
     ]
    }
   ],
   "source": [
    "#Use a lambda function in Python to sort a list of tuples based on the second element of each tuple.\n",
    "tuples_list = [(1, 3), (2, 1), (3, 2), (4, 4)]\n",
    "sorted_list = sorted(tuples_list, key=lambda x: x[1])\n",
    "print(sorted_list)\n"
   ]
  },
  {
   "cell_type": "code",
   "execution_count": 40,
   "id": "d0ab1dbd-419b-4af4-8af4-6a84458c40b8",
   "metadata": {},
   "outputs": [
    {
     "name": "stdout",
     "output_type": "stream",
     "text": [
      "Celsius temperatures: [0, 10, 20, 30, 40, 50]\n",
      "Fahrenheit temperatures: [32.0, 50.0, 68.0, 86.0, 104.0, 122.0]\n"
     ]
    }
   ],
   "source": [
    "#Write a Python program that uses `map()` to convert a list of temperatures from Celsius to Fahrenheit.\n",
    "def celsius_to_fahrenheit(celsius):\n",
    "    return (celsius * 9/5) + 32\n",
    "celsius_temps = [0, 10, 20, 30, 40, 50]\n",
    "fahrenheit_temps = list(map(celsius_to_fahrenheit, celsius_temps))\n",
    "\n",
    "print(\"Celsius temperatures:\", celsius_temps)\n",
    "print(\"Fahrenheit temperatures:\", fahrenheit_temps)\n"
   ]
  },
  {
   "cell_type": "code",
   "execution_count": 41,
   "id": "823bcd4f-f83e-4ecb-8386-164e2412215b",
   "metadata": {},
   "outputs": [
    {
     "name": "stdin",
     "output_type": "stream",
     "text": [
      "Enter a string:  Umbrella\n"
     ]
    },
    {
     "name": "stdout",
     "output_type": "stream",
     "text": [
      "String after removing vowels: mbrll\n"
     ]
    }
   ],
   "source": [
    "# Create a Python program that uses `filter()` to remove all the vowels from a given string.\n",
    "def is_not_vowel(char):\n",
    "    vowels = 'aeiouAEIOU'\n",
    "    return char not in vowels\n",
    "\n",
    "def remove_vowels(input_string):\n",
    "    filtered_chars = filter(is_not_vowel, input_string)\n",
    "    return ''.join(filtered_chars)\n",
    "\n",
    "input_string = input(\"Enter a string: \")\n",
    "result_string = remove_vowels(input_string)\n",
    "print(\"String after removing vowels:\", result_string)\n"
   ]
  },
  {
   "cell_type": "code",
   "execution_count": 42,
   "id": "42a29ac9-56ec-4468-9e7b-6cd37b6856bf",
   "metadata": {},
   "outputs": [
    {
     "name": "stdout",
     "output_type": "stream",
     "text": [
      "[(34587, 163.8), (98762, 284.0), (77226, 108.85000000000001), (88112, 84.97)]\n"
     ]
    }
   ],
   "source": [
    "#Q.11 answer\n",
    "orders = [\n",
    "    (34587, \"Learning Python, Mark Lutz\", 4, 40.95),\n",
    "    (98762, \"Programming Python, Mark Lutz\", 5, 56.80),\n",
    "    (77226, \"Head First Python, Paul Barry\", 3, 32.95),\n",
    "    (88112, \"Einführung in Python3, Bernd Klein\", 3, 24.99)\n",
    "]\n",
    "\n",
    "result = list(map(lambda x: (x[0], x[2] * x[3] + 10 if x[2] * x[3] < 100 else x[2] * x[3]), orders))\n",
    "\n",
    "print(result)"
   ]
  },
  {
   "cell_type": "code",
   "execution_count": null,
   "id": "94f79fe5-b7e9-468c-a654-52f93476ccf1",
   "metadata": {},
   "outputs": [],
   "source": []
  }
 ],
 "metadata": {
  "kernelspec": {
   "display_name": "Python 3 (ipykernel)",
   "language": "python",
   "name": "python3"
  },
  "language_info": {
   "codemirror_mode": {
    "name": "ipython",
    "version": 3
   },
   "file_extension": ".py",
   "mimetype": "text/x-python",
   "name": "python",
   "nbconvert_exporter": "python",
   "pygments_lexer": "ipython3",
   "version": "3.10.8"
  }
 },
 "nbformat": 4,
 "nbformat_minor": 5
}
